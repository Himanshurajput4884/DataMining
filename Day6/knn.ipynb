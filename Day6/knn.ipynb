{
 "cells": [
  {
   "cell_type": "code",
   "execution_count": 31,
   "metadata": {},
   "outputs": [],
   "source": [
    "import pandas as pd"
   ]
  },
  {
   "cell_type": "code",
   "execution_count": 12,
   "metadata": {},
   "outputs": [],
   "source": [
    "dataset = pd.read_csv('dataset.csv')"
   ]
  },
  {
   "cell_type": "code",
   "execution_count": 13,
   "metadata": {},
   "outputs": [
    {
     "name": "stdout",
     "output_type": "stream",
     "text": [
      "    x   y    r    g    b class\n",
      "0   1   2  244   56   53     A\n",
      "1  10  12   34   65  155     B\n",
      "2  14  14   32   63  144     B\n",
      "3   4   5  254   76   34     A\n",
      "4  32  36  110  234   56     C\n",
      "5  37  46   85  245   67     C\n",
      "6  34  65   78  223   74     C\n"
     ]
    }
   ],
   "source": [
    "print(dataset);"
   ]
  },
  {
   "cell_type": "code",
   "execution_count": 17,
   "metadata": {},
   "outputs": [],
   "source": [
    "X = dataset.iloc[:, :-1];\n",
    "Y = dataset.iloc[:, -1];"
   ]
  },
  {
   "cell_type": "code",
   "execution_count": 18,
   "metadata": {},
   "outputs": [
    {
     "name": "stdout",
     "output_type": "stream",
     "text": [
      "X ->      x   y    r    g    b\n",
      "0   1   2  244   56   53\n",
      "1  10  12   34   65  155\n",
      "2  14  14   32   63  144\n",
      "3   4   5  254   76   34\n",
      "4  32  36  110  234   56\n",
      "5  37  46   85  245   67\n",
      "6  34  65   78  223   74\n",
      "Y ->  0    A\n",
      "1    B\n",
      "2    B\n",
      "3    A\n",
      "4    C\n",
      "5    C\n",
      "6    C\n",
      "Name: class, dtype: object\n"
     ]
    }
   ],
   "source": [
    "print(\"X -> \", X);\n",
    "print(\"Y -> \", Y);"
   ]
  },
  {
   "cell_type": "code",
   "execution_count": 40,
   "metadata": {},
   "outputs": [],
   "source": [
    "def euclidean(point1, point2):\n",
    "    dist = 0;\n",
    "    # point1 = fpoint1.iloc[:, :-1];\n",
    "    # point2 = fpoint2.iloc[:, :-1];\n",
    "    for i in range(0,len(point1)):\n",
    "        dist += ((point1[i]-point2[i]) ** 2) ** 0.5;\n",
    "        # dist += euclid ** 0.5;\n",
    "    return dist;"
   ]
  },
  {
   "cell_type": "code",
   "execution_count": 41,
   "metadata": {},
   "outputs": [],
   "source": [
    "\n",
    "\n",
    "\n",
    "def knn_classify(dataset, newPoint, k=3):\n",
    "    distances = [];\n",
    "    \n",
    "    for i in range(len(dataset)):\n",
    "        # without class\n",
    "        point = dataset.iloc[i, :-1].values;\n",
    "        dist = euclidean(point, newPoint);\n",
    "        distances.append((dist, dataset.iloc[i, -1]));\n",
    "        \n",
    "        \n",
    "    # Sort the distance array\n",
    "    distances.sort(key=lambda x: x[0]);\n",
    "    neighbors = distances[:k]\n",
    "    \n",
    "    class_counts = {}\n",
    "    for neighbor in neighbors:\n",
    "        if neighbor[1] in class_counts:\n",
    "            class_counts[neighbor[1]] += 1\n",
    "        else:\n",
    "            class_counts[neighbor[1]] = 1\n",
    "    \n",
    "    # Find the class with the maximum count\n",
    "    predicted_class = max(class_counts, key=class_counts.get)\n",
    "    \n",
    "    return predicted_class\n",
    "        "
   ]
  },
  {
   "cell_type": "code",
   "execution_count": 42,
   "metadata": {},
   "outputs": [
    {
     "name": "stdout",
     "output_type": "stream",
     "text": [
      "The new point belongs to class: B\n"
     ]
    }
   ],
   "source": [
    "new_point = [2, 3, 64, 67, 255]\n",
    "predicted_class = knn_classify(dataset, new_point)\n",
    "print(f\"The new point belongs to class: {predicted_class}\")"
   ]
  }
 ],
 "metadata": {
  "kernelspec": {
   "display_name": "Python 3",
   "language": "python",
   "name": "python3"
  },
  "language_info": {
   "codemirror_mode": {
    "name": "ipython",
    "version": 3
   },
   "file_extension": ".py",
   "mimetype": "text/x-python",
   "name": "python",
   "nbconvert_exporter": "python",
   "pygments_lexer": "ipython3",
   "version": "3.11.4"
  }
 },
 "nbformat": 4,
 "nbformat_minor": 2
}
