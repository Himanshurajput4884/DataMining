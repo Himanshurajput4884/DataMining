{
 "cells": [
  {
   "cell_type": "code",
   "execution_count": 2,
   "metadata": {},
   "outputs": [],
   "source": [
    "import numpy as np"
   ]
  },
  {
   "cell_type": "code",
   "execution_count": 30,
   "metadata": {},
   "outputs": [
    {
     "data": {
      "text/plain": [
       "array([ 1, 18, 16,  2,  9])"
      ]
     },
     "execution_count": 30,
     "metadata": {},
     "output_type": "execute_result"
    }
   ],
   "source": [
    "np.random.seed(42);\n",
    "lower_bound = 1;\n",
    "upper_bound = 20;\n",
    "set_size = 5;\n",
    "\n",
    "random_set = np.random.choice(np.arange(lower_bound, upper_bound+1), size=set_size, replace=False)\n"
   ]
  },
  {
   "cell_type": "code",
   "execution_count": 57,
   "metadata": {},
   "outputs": [
    {
     "name": "stdout",
     "output_type": "stream",
     "text": [
      "Initial Array:  [ 1 18 16  2  9]\n",
      "Step: 1  Combined Cluster are =>  [[1]]  and  [[2]]\n",
      "Data:  [array([[1],\n",
      "       [2]]), 18, 16, 9]\n",
      "Step: 2  Combined Cluster are =>  [[18]]  and  [[16]]\n",
      "Data:  [array([[18],\n",
      "       [16]]), array([[1],\n",
      "       [2]]), 9]\n",
      "Step: 3  Combined Cluster are =>  [[1]\n",
      " [2]]  and  [[9]]\n",
      "Data:  [array([[1],\n",
      "       [2],\n",
      "       [9]]), array([[18],\n",
      "       [16]])]\n",
      "Step: 4  Combined Cluster are =>  [[1]\n",
      " [2]\n",
      " [9]]  and  [[18]\n",
      " [16]]\n",
      "Data:  [array([[ 1],\n",
      "       [ 2],\n",
      "       [ 9],\n",
      "       [18],\n",
      "       [16]])]\n"
     ]
    },
    {
     "name": "stderr",
     "output_type": "stream",
     "text": [
      "C:\\Users\\Rental\\AppData\\Local\\Temp\\ipykernel_5976\\2809380035.py:24: DeprecationWarning: Conversion of an array with ndim > 0 to a scalar is deprecated, and will error in future. Ensure you extract a single element from your array before performing this operation. (Deprecated NumPy 1.25.)\n",
      "  distance_matrix[i, j] = euclidean_distance(data[i], data[j])\n"
     ]
    }
   ],
   "source": [
    "\n",
    "\n",
    "def abs(x):\n",
    "    if x < 0:\n",
    "        return -x\n",
    "    else:\n",
    "        return x\n",
    "\n",
    "def calculate_centroid(x):\n",
    "    if isinstance(x, np.ndarray):\n",
    "        return x[0] if len(x) == 1 else np.mean(x, axis=0)\n",
    "    else:\n",
    "        return x\n",
    "\n",
    "def euclidean_distance(a, b):\n",
    "    centroid1 = calculate_centroid(a)\n",
    "    centroid2 = calculate_centroid(b)\n",
    "    return abs(centroid1 - centroid2)\n",
    "\n",
    "def calculateDistMatrix(data):\n",
    "    n = len(data)\n",
    "    distance_matrix = np.zeros((n, n))\n",
    "    \n",
    "    for i in range(n):\n",
    "        for j in range(i + 1, n):\n",
    "            distance_matrix[i, j] = euclidean_distance(data[i], data[j])\n",
    "            distance_matrix[j, i] = distance_matrix[i, j]\n",
    "            \n",
    "    return distance_matrix\n",
    "\n",
    "def minValue(distance_matrix):\n",
    "    min_distance = np.inf\n",
    "    min_i, min_j = -1, -1\n",
    "    \n",
    "    for i in range(len(distance_matrix)):\n",
    "        for j in range(i + 1, len(distance_matrix)):\n",
    "            if min_distance > distance_matrix[i, j]:\n",
    "                min_i, min_j = i, j\n",
    "                min_distance = distance_matrix[i, j]\n",
    "                \n",
    "    return min_i, min_j, min_distance\n",
    "\n",
    "\n",
    "def agglomerative(data):\n",
    "    count = 0\n",
    "    while len(data) != 1:\n",
    "        distance_matrix = calculateDistMatrix(data)\n",
    "        # print(distance_matrix);\n",
    "        index1, index2, minDist = minValue(distance_matrix)\n",
    "        ele1, ele2 = data[index1], data[index2]\n",
    "        \n",
    "        # Create a new list with elements to keep\n",
    "        new_data = [data[i] for i in range(len(data)) if i != index1 and i != index2]\n",
    "        \n",
    "        # Check and reshape if necessary\n",
    "        ele1 = ele1.reshape(1, -1) if ele1.ndim == 0 else ele1\n",
    "        ele2 = ele2.reshape(1, -1) if ele2.ndim == 0 else ele2\n",
    "        \n",
    "        combinedArray = np.concatenate((ele1, ele2))\n",
    "        \n",
    "        # print(combinedArray)\n",
    "        # Use insert to insert the combined array as a single element\n",
    "        new_data.insert(0, combinedArray)\n",
    "        \n",
    "        count += 1\n",
    "        print(\"Step:\", count, \" Combined Cluster are => \", ele1, \" and \", ele2)\n",
    "        \n",
    "        data = new_data\n",
    "        \n",
    "        print(\"Data: \", data)\n",
    "\n",
    "\n",
    "print(\"Initial Array: \", random_set);\n",
    "agglomerative(random_set)\n",
    "\n",
    "\n"
   ]
  },
  {
   "cell_type": "code",
   "execution_count": 23,
   "metadata": {},
   "outputs": [
    {
     "ename": "AxisError",
     "evalue": "axis 0 is out of bounds for array of dimension 0",
     "output_type": "error",
     "traceback": [
      "\u001b[1;31m---------------------------------------------------------------------------\u001b[0m",
      "\u001b[1;31mAxisError\u001b[0m                                 Traceback (most recent call last)",
      "\u001b[1;32mc:\\Users\\Rental\\Desktop\\data mining lab\\Day7\\Agglomerative.ipynb Cell 4\u001b[0m line \u001b[0;36m1\n\u001b[1;32m----> <a href='vscode-notebook-cell:/c%3A/Users/Rental/Desktop/data%20mining%20lab/Day7/Agglomerative.ipynb#W4sZmlsZQ%3D%3D?line=0'>1</a>\u001b[0m agglomerative(random_set)\n",
      "\u001b[1;32mc:\\Users\\Rental\\Desktop\\data mining lab\\Day7\\Agglomerative.ipynb Cell 4\u001b[0m line \u001b[0;36m4\n\u001b[0;32m     <a href='vscode-notebook-cell:/c%3A/Users/Rental/Desktop/data%20mining%20lab/Day7/Agglomerative.ipynb#W4sZmlsZQ%3D%3D?line=40'>41</a>\u001b[0m count \u001b[39m=\u001b[39m \u001b[39m0\u001b[39m\n\u001b[0;32m     <a href='vscode-notebook-cell:/c%3A/Users/Rental/Desktop/data%20mining%20lab/Day7/Agglomerative.ipynb#W4sZmlsZQ%3D%3D?line=41'>42</a>\u001b[0m \u001b[39mwhile\u001b[39;00m \u001b[39mlen\u001b[39m(data) \u001b[39m!=\u001b[39m \u001b[39m1\u001b[39m:\n\u001b[1;32m---> <a href='vscode-notebook-cell:/c%3A/Users/Rental/Desktop/data%20mining%20lab/Day7/Agglomerative.ipynb#W4sZmlsZQ%3D%3D?line=42'>43</a>\u001b[0m     distance_matrix \u001b[39m=\u001b[39m calculateDistMatrix(data)\n\u001b[0;32m     <a href='vscode-notebook-cell:/c%3A/Users/Rental/Desktop/data%20mining%20lab/Day7/Agglomerative.ipynb#W4sZmlsZQ%3D%3D?line=44'>45</a>\u001b[0m     index1, index2, minDist \u001b[39m=\u001b[39m minValue(distance_matrix)\n\u001b[0;32m     <a href='vscode-notebook-cell:/c%3A/Users/Rental/Desktop/data%20mining%20lab/Day7/Agglomerative.ipynb#W4sZmlsZQ%3D%3D?line=45'>46</a>\u001b[0m     ele1, ele2 \u001b[39m=\u001b[39m data[index1], data[index2]\n",
      "\u001b[1;32mc:\\Users\\Rental\\Desktop\\data mining lab\\Day7\\Agglomerative.ipynb Cell 4\u001b[0m line \u001b[0;36m2\n\u001b[0;32m     <a href='vscode-notebook-cell:/c%3A/Users/Rental/Desktop/data%20mining%20lab/Day7/Agglomerative.ipynb#W4sZmlsZQ%3D%3D?line=20'>21</a>\u001b[0m \u001b[39mfor\u001b[39;00m i \u001b[39min\u001b[39;00m \u001b[39mrange\u001b[39m(n):\n\u001b[0;32m     <a href='vscode-notebook-cell:/c%3A/Users/Rental/Desktop/data%20mining%20lab/Day7/Agglomerative.ipynb#W4sZmlsZQ%3D%3D?line=21'>22</a>\u001b[0m     \u001b[39mfor\u001b[39;00m j \u001b[39min\u001b[39;00m \u001b[39mrange\u001b[39m(i \u001b[39m+\u001b[39m \u001b[39m1\u001b[39m, n):\n\u001b[1;32m---> <a href='vscode-notebook-cell:/c%3A/Users/Rental/Desktop/data%20mining%20lab/Day7/Agglomerative.ipynb#W4sZmlsZQ%3D%3D?line=22'>23</a>\u001b[0m         distance_matrix[i, j] \u001b[39m=\u001b[39m euclidean_distance(data[i], data[j])\n\u001b[0;32m     <a href='vscode-notebook-cell:/c%3A/Users/Rental/Desktop/data%20mining%20lab/Day7/Agglomerative.ipynb#W4sZmlsZQ%3D%3D?line=23'>24</a>\u001b[0m         distance_matrix[j, i] \u001b[39m=\u001b[39m distance_matrix[i, j]\n\u001b[0;32m     <a href='vscode-notebook-cell:/c%3A/Users/Rental/Desktop/data%20mining%20lab/Day7/Agglomerative.ipynb#W4sZmlsZQ%3D%3D?line=25'>26</a>\u001b[0m \u001b[39mreturn\u001b[39;00m distance_matrix\n",
      "\u001b[1;32mc:\\Users\\Rental\\Desktop\\data mining lab\\Day7\\Agglomerative.ipynb Cell 4\u001b[0m line \u001b[0;36m1\n\u001b[0;32m     <a href='vscode-notebook-cell:/c%3A/Users/Rental/Desktop/data%20mining%20lab/Day7/Agglomerative.ipynb#W4sZmlsZQ%3D%3D?line=11'>12</a>\u001b[0m \u001b[39mdef\u001b[39;00m \u001b[39meuclidean_distance\u001b[39m(a, b):\n\u001b[1;32m---> <a href='vscode-notebook-cell:/c%3A/Users/Rental/Desktop/data%20mining%20lab/Day7/Agglomerative.ipynb#W4sZmlsZQ%3D%3D?line=12'>13</a>\u001b[0m     centroid1 \u001b[39m=\u001b[39m calculate_centroid(a)\n\u001b[0;32m     <a href='vscode-notebook-cell:/c%3A/Users/Rental/Desktop/data%20mining%20lab/Day7/Agglomerative.ipynb#W4sZmlsZQ%3D%3D?line=13'>14</a>\u001b[0m     centroid2 \u001b[39m=\u001b[39m calculate_centroid(b)\n\u001b[0;32m     <a href='vscode-notebook-cell:/c%3A/Users/Rental/Desktop/data%20mining%20lab/Day7/Agglomerative.ipynb#W4sZmlsZQ%3D%3D?line=14'>15</a>\u001b[0m     \u001b[39mreturn\u001b[39;00m \u001b[39mabs\u001b[39m(centroid1 \u001b[39m-\u001b[39m centroid2)\n",
      "\u001b[1;32mc:\\Users\\Rental\\Desktop\\data mining lab\\Day7\\Agglomerative.ipynb Cell 4\u001b[0m line \u001b[0;36m1\n\u001b[0;32m      <a href='vscode-notebook-cell:/c%3A/Users/Rental/Desktop/data%20mining%20lab/Day7/Agglomerative.ipynb#W4sZmlsZQ%3D%3D?line=7'>8</a>\u001b[0m \u001b[39mif\u001b[39;00m \u001b[39misinstance\u001b[39m(x, np\u001b[39m.\u001b[39mndarray) \u001b[39mand\u001b[39;00m \u001b[39mlen\u001b[39m(x) \u001b[39m==\u001b[39m \u001b[39m1\u001b[39m:\n\u001b[0;32m      <a href='vscode-notebook-cell:/c%3A/Users/Rental/Desktop/data%20mining%20lab/Day7/Agglomerative.ipynb#W4sZmlsZQ%3D%3D?line=8'>9</a>\u001b[0m     \u001b[39mreturn\u001b[39;00m x[\u001b[39m0\u001b[39m]\n\u001b[1;32m---> <a href='vscode-notebook-cell:/c%3A/Users/Rental/Desktop/data%20mining%20lab/Day7/Agglomerative.ipynb#W4sZmlsZQ%3D%3D?line=9'>10</a>\u001b[0m \u001b[39mreturn\u001b[39;00m np\u001b[39m.\u001b[39;49mmean(x, axis\u001b[39m=\u001b[39;49m\u001b[39m0\u001b[39;49m)\n",
      "File \u001b[1;32mc:\\Users\\Rental\\AppData\\Local\\Programs\\Python\\Python311\\Lib\\site-packages\\numpy\\core\\fromnumeric.py:3502\u001b[0m, in \u001b[0;36mmean\u001b[1;34m(a, axis, dtype, out, keepdims, where)\u001b[0m\n\u001b[0;32m   3500\u001b[0m         \u001b[39mpass\u001b[39;00m\n\u001b[0;32m   3501\u001b[0m     \u001b[39melse\u001b[39;00m:\n\u001b[1;32m-> 3502\u001b[0m         \u001b[39mreturn\u001b[39;00m mean(axis\u001b[39m=\u001b[39;49maxis, dtype\u001b[39m=\u001b[39;49mdtype, out\u001b[39m=\u001b[39;49mout, \u001b[39m*\u001b[39;49m\u001b[39m*\u001b[39;49mkwargs)\n\u001b[0;32m   3504\u001b[0m \u001b[39mreturn\u001b[39;00m _methods\u001b[39m.\u001b[39m_mean(a, axis\u001b[39m=\u001b[39maxis, dtype\u001b[39m=\u001b[39mdtype,\n\u001b[0;32m   3505\u001b[0m                       out\u001b[39m=\u001b[39mout, \u001b[39m*\u001b[39m\u001b[39m*\u001b[39mkwargs)\n",
      "File \u001b[1;32mc:\\Users\\Rental\\AppData\\Local\\Programs\\Python\\Python311\\Lib\\site-packages\\numpy\\core\\_methods.py:106\u001b[0m, in \u001b[0;36m_mean\u001b[1;34m(a, axis, dtype, out, keepdims, where)\u001b[0m\n\u001b[0;32m    102\u001b[0m arr \u001b[39m=\u001b[39m asanyarray(a)\n\u001b[0;32m    104\u001b[0m is_float16_result \u001b[39m=\u001b[39m \u001b[39mFalse\u001b[39;00m\n\u001b[1;32m--> 106\u001b[0m rcount \u001b[39m=\u001b[39m _count_reduce_items(arr, axis, keepdims\u001b[39m=\u001b[39;49mkeepdims, where\u001b[39m=\u001b[39;49mwhere)\n\u001b[0;32m    107\u001b[0m \u001b[39mif\u001b[39;00m rcount \u001b[39m==\u001b[39m \u001b[39m0\u001b[39m \u001b[39mif\u001b[39;00m where \u001b[39mis\u001b[39;00m \u001b[39mTrue\u001b[39;00m \u001b[39melse\u001b[39;00m umr_any(rcount \u001b[39m==\u001b[39m \u001b[39m0\u001b[39m, axis\u001b[39m=\u001b[39m\u001b[39mNone\u001b[39;00m):\n\u001b[0;32m    108\u001b[0m     warnings\u001b[39m.\u001b[39mwarn(\u001b[39m\"\u001b[39m\u001b[39mMean of empty slice.\u001b[39m\u001b[39m\"\u001b[39m, \u001b[39mRuntimeWarning\u001b[39;00m, stacklevel\u001b[39m=\u001b[39m\u001b[39m2\u001b[39m)\n",
      "File \u001b[1;32mc:\\Users\\Rental\\AppData\\Local\\Programs\\Python\\Python311\\Lib\\site-packages\\numpy\\core\\_methods.py:77\u001b[0m, in \u001b[0;36m_count_reduce_items\u001b[1;34m(arr, axis, keepdims, where)\u001b[0m\n\u001b[0;32m     75\u001b[0m     items \u001b[39m=\u001b[39m \u001b[39m1\u001b[39m\n\u001b[0;32m     76\u001b[0m     \u001b[39mfor\u001b[39;00m ax \u001b[39min\u001b[39;00m axis:\n\u001b[1;32m---> 77\u001b[0m         items \u001b[39m*\u001b[39m\u001b[39m=\u001b[39m arr\u001b[39m.\u001b[39mshape[mu\u001b[39m.\u001b[39mnormalize_axis_index(ax, arr\u001b[39m.\u001b[39mndim)]\n\u001b[0;32m     78\u001b[0m     items \u001b[39m=\u001b[39m nt\u001b[39m.\u001b[39mintp(items)\n\u001b[0;32m     79\u001b[0m \u001b[39melse\u001b[39;00m:\n\u001b[0;32m     80\u001b[0m     \u001b[39m# TODO: Optimize case when `where` is broadcast along a non-reduction\u001b[39;00m\n\u001b[0;32m     81\u001b[0m     \u001b[39m# axis and full sum is more excessive than needed.\u001b[39;00m\n\u001b[0;32m     82\u001b[0m \n\u001b[0;32m     83\u001b[0m     \u001b[39m# guarded to protect circular imports\u001b[39;00m\n",
      "\u001b[1;31mAxisError\u001b[0m: axis 0 is out of bounds for array of dimension 0"
     ]
    }
   ],
   "source": [
    "agglomerative(random_set)"
   ]
  }
 ],
 "metadata": {
  "kernelspec": {
   "display_name": "Python 3",
   "language": "python",
   "name": "python3"
  },
  "language_info": {
   "codemirror_mode": {
    "name": "ipython",
    "version": 3
   },
   "file_extension": ".py",
   "mimetype": "text/x-python",
   "name": "python",
   "nbconvert_exporter": "python",
   "pygments_lexer": "ipython3",
   "version": "3.11.4"
  }
 },
 "nbformat": 4,
 "nbformat_minor": 2
}
